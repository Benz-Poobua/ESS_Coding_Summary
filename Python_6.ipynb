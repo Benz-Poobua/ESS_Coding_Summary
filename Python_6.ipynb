{
 "cells": [
  {
   "cell_type": "markdown",
   "id": "e45de4be",
   "metadata": {},
   "source": [
    "# Statistical Consideration"
   ]
  },
  {
   "cell_type": "markdown",
   "id": "006f8989",
   "metadata": {},
   "source": [
    "## Normal (Gaussian) Distribution"
   ]
  },
  {
   "cell_type": "markdown",
   "id": "0d54e53d",
   "metadata": {},
   "source": [
    "- A normal distribution is symmetric from the peak of the curve, where the mean is.\n",
    "- Datasets that follow a normal distribution, the mean, median, and mode are located on the same spot on the graph.\n",
    "- Skewness and kurtosis are coefficients that measure how different a distribution is from a normal distribution.\n"
   ]
  },
  {
   "cell_type": "markdown",
   "id": "98d98b5a",
   "metadata": {},
   "source": [
    "## Skewness"
   ]
  },
  {
   "cell_type": "markdown",
   "id": "5d7f0deb",
   "metadata": {},
   "source": [
    "- Skewness is a measure of asymmetry or distortion of symmetric distribution.\n",
    "- If a curve is shifted towards the right (negative skew)."
   ]
  },
  {
   "cell_type": "markdown",
   "id": "e74d1514",
   "metadata": {},
   "source": [
    "## Kurtosis"
   ]
  },
  {
   "cell_type": "markdown",
   "id": "0e872a42",
   "metadata": {},
   "source": [
    "- Kurtosis measures the thickness of the tail ends relative to the tails of a normal distribution."
   ]
  }
 ],
 "metadata": {
  "kernelspec": {
   "display_name": "Python 3 (ipykernel)",
   "language": "python",
   "name": "python3"
  },
  "language_info": {
   "codemirror_mode": {
    "name": "ipython",
    "version": 3
   },
   "file_extension": ".py",
   "mimetype": "text/x-python",
   "name": "python",
   "nbconvert_exporter": "python",
   "pygments_lexer": "ipython3",
   "version": "3.11.4"
  }
 },
 "nbformat": 4,
 "nbformat_minor": 5
}
