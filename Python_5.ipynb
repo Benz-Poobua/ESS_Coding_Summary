{
 "cells": [
  {
   "cell_type": "markdown",
   "id": "3a2e81f4",
   "metadata": {},
   "source": [
    "# Spectral Transforms"
   ]
  },
  {
   "cell_type": "code",
   "execution_count": 1,
   "id": "820fc516",
   "metadata": {},
   "outputs": [],
   "source": [
    "# Import modules for seismic data and feature extraction\n",
    "\n",
    "import numpy as np\n",
    "\n",
    "import matplotlib.pyplot as plt\n",
    "import pandas as pd\n",
    "import scipy\n",
    "import scipy.signal as signal\n",
    "\n",
    "\n",
    "# seismic python toolbox\n",
    "import obspy\n",
    "import obspy.clients.fdsn.client as fdsn\n",
    "from obspy import UTCDateTime "
   ]
  },
  {
   "cell_type": "code",
   "execution_count": null,
   "id": "e195dee8",
   "metadata": {},
   "outputs": [],
   "source": []
  }
 ],
 "metadata": {
  "kernelspec": {
   "display_name": "Python 3 (ipykernel)",
   "language": "python",
   "name": "python3"
  },
  "language_info": {
   "codemirror_mode": {
    "name": "ipython",
    "version": 3
   },
   "file_extension": ".py",
   "mimetype": "text/x-python",
   "name": "python",
   "nbconvert_exporter": "python",
   "pygments_lexer": "ipython3",
   "version": "3.11.4"
  }
 },
 "nbformat": 4,
 "nbformat_minor": 5
}
