{
 "cells": [
  {
   "cell_type": "markdown",
   "id": "67b1b4cf",
   "metadata": {},
   "source": [
    "# Resampling"
   ]
  },
  {
   "cell_type": "markdown",
   "id": "77ac55eb",
   "metadata": {},
   "source": [
    "- A tool consisting in repeatedly drawing samples from a dataset and calculating statistics and metrics on each of those samples in order to obtain further information about something.\n",
    "- A series of techniques used in statistics to gather more information about a sample.\n",
    "- In the context of data science, resampling refers to the process of generating one or more new samples from some sample.\n",
    "- If you use every possible combination of rearranging data, then you are permutation testing."
   ]
  },
  {
   "cell_type": "markdown",
   "id": "ca56e121",
   "metadata": {},
   "source": [
    "## Bootstrapping"
   ]
  },
  {
   "cell_type": "markdown",
   "id": "8c12eacc",
   "metadata": {},
   "source": [
    "- A resampling technique that involves repeatedly drawing samples from our source data **with replacement**, often to estimate a population parameter. \n",
    "- It allows us to see how much variation there would have been and gives further understanding of the sample that we took in the first place.\n",
    "1. Make a Bootstrapped dataset\n",
    "2. Calculate something\n",
    "3. Keep tract of that calculate\n",
    "4. Repeat the previous steps a bunch of times"
   ]
  },
  {
   "cell_type": "markdown",
   "id": "80a8c3b7",
   "metadata": {},
   "source": [
    "## Monte Carlo Simulation"
   ]
  },
  {
   "cell_type": "markdown",
   "id": "639f4f01",
   "metadata": {},
   "source": [
    "- A mathematical technique that predicts possible outcomes of an uncertain event.\n",
    "- Computer programs use this method to analyze past data and predict a range of future outcomes based on a choice of action. "
   ]
  },
  {
   "cell_type": "code",
   "execution_count": null,
   "id": "ebb07786",
   "metadata": {},
   "outputs": [],
   "source": []
  }
 ],
 "metadata": {
  "kernelspec": {
   "display_name": "Python 3 (ipykernel)",
   "language": "python",
   "name": "python3"
  },
  "language_info": {
   "codemirror_mode": {
    "name": "ipython",
    "version": 3
   },
   "file_extension": ".py",
   "mimetype": "text/x-python",
   "name": "python",
   "nbconvert_exporter": "python",
   "pygments_lexer": "ipython3",
   "version": "3.11.4"
  }
 },
 "nbformat": 4,
 "nbformat_minor": 5
}
